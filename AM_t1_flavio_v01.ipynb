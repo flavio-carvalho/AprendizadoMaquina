{
 "cells": [
  {
   "cell_type": "code",
   "execution_count": 1,
   "metadata": {},
   "outputs": [
    {
     "name": "stdout",
     "output_type": "stream",
     "text": [
      "    populacao     lucro\n",
      "0      6.1101  17.59200\n",
      "1      5.5277   9.13020\n",
      "2      8.5186  13.66200\n",
      "3      7.0032  11.85400\n",
      "4      5.8598   6.82330\n",
      "5      8.3829  11.88600\n",
      "6      7.4764   4.34830\n",
      "7      8.5781  12.00000\n",
      "8      6.4862   6.59870\n",
      "9      5.0546   3.81660\n",
      "10     5.7107   3.25220\n",
      "11    14.1640  15.50500\n",
      "12     5.7340   3.15510\n",
      "13     8.4084   7.22580\n",
      "14     5.6407   0.71618\n",
      "15     5.3794   3.51290\n",
      "16     6.3654   5.30480\n",
      "17     5.1301   0.56077\n",
      "18     6.4296   3.65180\n",
      "19     7.0708   5.38930\n",
      "20     6.1891   3.13860\n",
      "21    20.2700  21.76700\n",
      "22     5.4901   4.26300\n",
      "23     6.3261   5.18750\n",
      "24     5.5649   3.08250\n",
      "25    18.9450  22.63800\n",
      "26    12.8280  13.50100\n",
      "27    10.9570   7.04670\n",
      "28    13.1760  14.69200\n",
      "29    22.2030  24.14700\n",
      "..        ...       ...\n",
      "67    10.2360   7.77540\n",
      "68     5.4994   1.01730\n",
      "69    20.3410  20.99200\n",
      "70    10.1360   6.67990\n",
      "71     7.3345   4.02590\n",
      "72     6.0062   1.27840\n",
      "73     7.2259   3.34110\n",
      "74     5.0269  -2.68070\n",
      "75     6.5479   0.29678\n",
      "76     7.5386   3.88450\n",
      "77     5.0365   5.70140\n",
      "78    10.2740   6.75260\n",
      "79     5.1077   2.05760\n",
      "80     5.7292   0.47953\n",
      "81     5.1884   0.20421\n",
      "82     6.3557   0.67861\n",
      "83     9.7687   7.54350\n",
      "84     6.5159   5.34360\n",
      "85     8.5172   4.24150\n",
      "86     9.1802   6.79810\n",
      "87     6.0020   0.92695\n",
      "88     5.5204   0.15200\n",
      "89     5.0594   2.82140\n",
      "90     5.7077   1.84510\n",
      "91     7.6366   4.29590\n",
      "92     5.8707   7.20290\n",
      "93     5.3054   1.98690\n",
      "94     8.2934   0.14454\n",
      "95    13.3940   9.05510\n",
      "96     5.4369   0.61705\n",
      "\n",
      "[97 rows x 2 columns]\n"
     ]
    },
    {
     "data": {
      "text/plain": [
       "<matplotlib.figure.Figure at 0x1da31e70c18>"
      ]
     },
     "metadata": {},
     "output_type": "display_data"
    },
    {
     "data": {
      "image/png": "[encoded data removed]",
      "text/plain": [
       "<matplotlib.figure.Figure at 0x1da34a13dd8>"
      ]
     },
     "metadata": {},
     "output_type": "display_data"
    },
    {
     "data": {
      "text/plain": [
       "<matplotlib.figure.Figure at 0x1da34a137b8>"
      ]
     },
     "metadata": {},
     "output_type": "display_data"
    }
   ],
   "source": [
    "import matplotlib.pyplot as plt\n",
    "import numpy as np\n",
    "import pandas as pd\n",
    "\n",
    "#Carregando os dados\n",
    "dados = pd.read_csv('C:\\\\Users\\\\Flavio\\\\Downloads\\\\ex1data1.txt', names = ['populacao', 'lucro'])\n",
    "print (dados)\n",
    "\n",
    "#gráfico de dispersão (scatter plot) dos dados\n",
    "plt.clf()\n",
    "dados.plot.scatter(x='populacao', y='lucro',color='Red',marker='x');\n",
    "plt.xlabel('Population of City in 10,000s')\n",
    "plt.ylabel('Profit in $10,000s')\n",
    "plt.figure(figsize=(30,35))\n",
    "plt.show()"
   ]
  },
  {
   "cell_type": "code",
   "execution_count": 3,
   "metadata": {},
   "outputs": [],
   "source": [
    "\"\"\"\n",
    "Atribuindo valores das variáveis para a função de custo\n",
    "\"\"\"\n",
    "## Separa as colunas 'populacao' e 'lucro' em X e y\n",
    "X_df = pd.DataFrame(dados.populacao)\n",
    "y_df = pd.DataFrame(dados.lucro)\n",
    "\n",
    "## Numero de observacoes dos dados\n",
    "m = len(y_df)"
   ]
  },
  {
   "cell_type": "code",
   "execution_count": 4,
   "metadata": {},
   "outputs": [],
   "source": [
    "\"\"\"\n",
    "Declarações de parâmetros\n",
    "alpha: taxa de aprendizado\n",
    "it:iterações (quantas vezes realiza atualização)\n",
    "\"\"\"\n",
    "\n",
    "it = 1500\n",
    "alpha = 0.01"
   ]
  },
  {
   "cell_type": "code",
   "execution_count": 45,
   "metadata": {},
   "outputs": [
    {
     "name": "stdout",
     "output_type": "stream",
     "text": [
      "    populacao  intercept\n",
      "0      6.1101          1\n",
      "1      5.5277          1\n",
      "2      8.5186          1\n",
      "3      7.0032          1\n",
      "4      5.8598          1\n",
      "5      8.3829          1\n",
      "6      7.4764          1\n",
      "7      8.5781          1\n",
      "8      6.4862          1\n",
      "9      5.0546          1\n",
      "10     5.7107          1\n",
      "11    14.1640          1\n",
      "12     5.7340          1\n",
      "13     8.4084          1\n",
      "14     5.6407          1\n",
      "15     5.3794          1\n",
      "16     6.3654          1\n",
      "17     5.1301          1\n",
      "18     6.4296          1\n",
      "19     7.0708          1\n",
      "20     6.1891          1\n",
      "21    20.2700          1\n",
      "22     5.4901          1\n",
      "23     6.3261          1\n",
      "24     5.5649          1\n",
      "25    18.9450          1\n",
      "26    12.8280          1\n",
      "27    10.9570          1\n",
      "28    13.1760          1\n",
      "29    22.2030          1\n",
      "..        ...        ...\n",
      "67    10.2360          1\n",
      "68     5.4994          1\n",
      "69    20.3410          1\n",
      "70    10.1360          1\n",
      "71     7.3345          1\n",
      "72     6.0062          1\n",
      "73     7.2259          1\n",
      "74     5.0269          1\n",
      "75     6.5479          1\n",
      "76     7.5386          1\n",
      "77     5.0365          1\n",
      "78    10.2740          1\n",
      "79     5.1077          1\n",
      "80     5.7292          1\n",
      "81     5.1884          1\n",
      "82     6.3557          1\n",
      "83     9.7687          1\n",
      "84     6.5159          1\n",
      "85     8.5172          1\n",
      "86     9.1802          1\n",
      "87     6.0020          1\n",
      "88     5.5204          1\n",
      "89     5.0594          1\n",
      "90     5.7077          1\n",
      "91     7.6366          1\n",
      "92     5.8707          1\n",
      "93     5.3054          1\n",
      "94     8.2934          1\n",
      "95    13.3940          1\n",
      "96     5.4369          1\n",
      "\n",
      "[97 rows x 2 columns]\n"
     ]
    }
   ],
   "source": [
    "\"\"\"\n",
    "As duas operações a seguir são para, primeiro, transformar a estrutura dos dados em uma matriz\n",
    "para simplificar as operações e, em seguida, calcular a função de custo. \n",
    "(np.dot é usado para multiplicação de matrizes)\n",
    "\"\"\"\n",
    "\n",
    "## Adiciona uma coluna só com \"1\". Isso vai ser a segunda coluna quando for feita a interceptação com X.\n",
    "X_df['intercept'] = 1\n",
    "print (X_df) #para conferir\n"
   ]
  },
  {
   "cell_type": "code",
   "execution_count": 46,
   "metadata": {
    "collapsed": true
   },
   "outputs": [],
   "source": [
    "\n",
    "## Transforma em vetores do Numpy para facilitar operações com matrizes\n",
    "## Inicia com theta em 0, 0\n",
    "X = np.array(X_df)\n",
    "y = np.array(y_df).flatten()\n",
    "theta = np.array([0, 0])"
   ]
  },
  {
   "cell_type": "code",
   "execution_count": 47,
   "metadata": {
    "collapsed": true
   },
   "outputs": [],
   "source": [
    "def computarCusto(X, y, theta):\n",
    "\n",
    "    \"\"\"\n",
    "    computarCusto(X, y, theta) calcula o custo usando theta como \n",
    "    parametro da regressão linear para ajustar os pontos em X e y\n",
    "    m -- quantidade de itens do conjunto de treinamento\n",
    "    J -- função de custo\n",
    "    theta -- Gradiente Descendente\n",
    "    \"\"\"\n",
    "    ## quantidade de itens do conjunto de treinamento\n",
    "    m = len(y)\n",
    "\n",
    "    ## Calcula o custo com os parãmetros fornecidos\n",
    "    J = np.sum((X.dot(theta)-y)**2)/2/m\n",
    "\n",
    "    return J"
   ]
  },
  {
   "cell_type": "code",
   "execution_count": 48,
   "metadata": {},
   "outputs": [
    {
     "name": "stdout",
     "output_type": "stream",
     "text": [
      "Com todos os parâmetros iguais a zero, a função gera um valor igual a 32.07.\n"
     ]
    }
   ],
   "source": [
    "\"\"\"\n",
    "\"Após implementar essa função, você pode verificar a cor-\n",
    "retude executando com todos os parâmetros iguais a zero. Nessa situação, sua\n",
    "função deve gerar um valor igual a 32,07.\"\n",
    "\"\"\"\n",
    "\n",
    "#computarCusto(X, y, theta)\n",
    "#print (computarCusto(X, y, theta))\n",
    "#print(theta)\n",
    "result = (computarCusto(X, y, theta))\n",
    "#print (\"Com todos os parâmetros iguais a %s, a função gera um valor igual a %f.\" % (theta,result))\n",
    "print (\"Com todos os parâmetros iguais a zero, a função gera um valor igual a %.2f.\" % result)"
   ]
  },
  {
   "cell_type": "code",
   "execution_count": 49,
   "metadata": {
    "collapsed": true
   },
   "outputs": [],
   "source": [
    "def gduni(X, y, theta, alpha, it):\n",
    "    \"\"\"\n",
    "    gduni Executa o algoritmo Gradiente Descendente para ajustar theta\n",
    "    theta = GRADIENTDESENT(X, y, theta, alpha, num_iters) atualiza o valor de theta  \n",
    "    em passos, definido pelo número de iterações (it), com taxa de aprendizado alpha\n",
    "    \n",
    "    \n",
    "    \n",
    "    \"\"\"\n",
    "    cost_history = [0] * it\n",
    "    \n",
    "    for iteration in range(it):\n",
    "        hipotese = X.dot(theta)\n",
    "        perda = hipotese-y\n",
    "        gradiente = X.T.dot(perda)/m\n",
    "        theta = theta - alpha*gradiente\n",
    "        custo = computarCusto(X, y, theta)\n",
    "        cost_history[iteration] = custo\n",
    "\n",
    "    return theta, cost_history"
   ]
  },
  {
   "cell_type": "code",
   "execution_count": 50,
   "metadata": {
    "scrolled": true
   },
   "outputs": [],
   "source": [
    "(t, c) = gduni(X,y,theta,0.01, 1500)\n",
    "best_fit_x = np.linspace(0, 25, 20)\n",
    "best_fit_y = [t[1] + t[0]*xx for xx in best_fit_x]"
   ]
  },
  {
   "cell_type": "code",
   "execution_count": 55,
   "metadata": {
    "scrolled": false
   },
   "outputs": [
    {
     "data": {
      "text/plain": [
       "<matplotlib.figure.Figure at 0x1da34e6e9e8>"
      ]
     },
     "metadata": {},
     "output_type": "display_data"
    },
    {
     "data": {
      "image/png": "[encoded data removed]",
      "text/plain": [
       "<matplotlib.figure.Figure at 0x1da34e6e400>"
      ]
     },
     "metadata": {},
     "output_type": "display_data"
    }
   ],
   "source": [
    "plt.clf()\n",
    "plt.figure(figsize=(8,5))\n",
    "plt.plot(X_df.populacao, y_df, '.',color='Red',marker='x')\n",
    "plt.plot(best_fit_x, best_fit_y, '-')\n",
    "plt.axis([4,24,-5,25])\n",
    "plt.xlabel('Population of City in 10,000s')\n",
    "plt.ylabel('Profit in $10,000s')\n",
    "plt.title('Pontos de dados do conjunto ex1data1.txt.')\n",
    "plt.show()"
   ]
  },
  {
   "cell_type": "code",
   "execution_count": 54,
   "metadata": {},
   "outputs": [
    {
     "name": "stdout",
     "output_type": "stream",
     "text": [
      "Lucro em regiões com populações de 35.000 habitantes = $ 4519.77\n",
      "Lucro em regiões com populações de 70.000 habitantes = $ 45342.45\n"
     ]
    }
   ],
   "source": [
    "\"\"\"\n",
    "\"Usar o modelo de regressão linear produzido pelo seu código para predizer o lucro em regiões com\n",
    "populações de 35.000 e 70.000 habitantes. \n",
    "\"\"\"\n",
    "\n",
    "print (\"Lucro em regiões com populações de 35.000 habitantes = $ %.2f\" % (10000.0*(np.array([3.5, 1]).dot(t))))\n",
    "print (\"Lucro em regiões com populações de 70.000 habitantes = $ %.2f\" % (10000.0*(np.array([7, 1]).dot(t))))"
   ]
  },
  {
   "cell_type": "code",
   "execution_count": null,
   "metadata": {
    "collapsed": true
   },
   "outputs": [],
   "source": []
  }
 ],
 "metadata": {
  "kernelspec": {
   "display_name": "Python 3",
   "language": "python",
   "name": "python3"
  },
  "language_info": {
   "codemirror_mode": {
    "name": "ipython",
    "version": 3
   },
   "file_extension": ".py",
   "mimetype": "text/x-python",
   "name": "python",
   "nbconvert_exporter": "python",
   "pygments_lexer": "ipython3",
   "version": "3.6.1"
  }
 },
 "nbformat": 4,
 "nbformat_minor": 2
}
