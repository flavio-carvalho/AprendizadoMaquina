{
 "cells": [
  {
   "cell_type": "code",
   "execution_count": 1,
   "metadata": {},
   "outputs": [
    {
     "data": {
      "text/plain": [
       "<matplotlib.figure.Figure at 0x17afbaa7908>"
      ]
     },
     "metadata": {},
     "output_type": "display_data"
    },
    {
     "data": {
      "image/png": "[encoded data removed]",
      "text/plain": [
       "<matplotlib.figure.Figure at 0x17afe6d9fd0>"
      ]
     },
     "metadata": {},
     "output_type": "display_data"
    },
    {
     "data": {
      "text/plain": [
       "<matplotlib.figure.Figure at 0x17afe758c50>"
      ]
     },
     "metadata": {},
     "output_type": "display_data"
    }
   ],
   "source": [
    "import matplotlib.pyplot as plt\n",
    "import numpy as np\n",
    "import pandas as pd\n",
    "\n",
    "#Carregando os dados\n",
    "dados = pd.read_csv('ex1data1.txt', names = ['populacao', 'lucro'])\n",
    "#print (dados)\n",
    "\n",
    "#gráfico de dispersão (scatter plot) dos dados\n",
    "plt.clf()\n",
    "dados.plot.scatter(x='populacao', y='lucro',color='Red',marker='x');\n",
    "plt.xlabel('Population of City in 10,000s')\n",
    "plt.ylabel('Profit in $10,000s')\n",
    "plt.figure(figsize=(30,35))\n",
    "plt.show()"
   ]
  },
  {
   "cell_type": "code",
   "execution_count": 2,
   "metadata": {
    "collapsed": true
   },
   "outputs": [],
   "source": [
    "\"\"\"\n",
    "Atribuindo valores das variáveis para a função de custo\n",
    "\"\"\"\n",
    "## Separa as colunas 'populacao' e 'lucro' em X e y\n",
    "X_df = pd.DataFrame(dados.populacao)\n",
    "y_df = pd.DataFrame(dados.lucro)\n",
    "\n",
    "## Numero de observacoes dos dados\n",
    "m = len(y_df)"
   ]
  },
  {
   "cell_type": "code",
   "execution_count": 3,
   "metadata": {
    "collapsed": true
   },
   "outputs": [],
   "source": [
    "\"\"\"\n",
    "Declarações de parâmetros\n",
    "alpha: taxa de aprendizado\n",
    "it:iterações (quantas vezes realiza atualização)\n",
    "\"\"\"\n",
    "\n",
    "it = 1500\n",
    "alpha = 0.01"
   ]
  },
  {
   "cell_type": "code",
   "execution_count": 4,
   "metadata": {
    "collapsed": true
   },
   "outputs": [],
   "source": [
    "\"\"\"\n",
    "As duas operações a seguir são para, primeiro, transformar a estrutura dos dados em uma matriz\n",
    "para simplificar as operações e, em seguida, calcular a função de custo. \n",
    "(np.dot é usado para multiplicação de matrizes)\n",
    "\"\"\"\n",
    "\n",
    "## Adiciona uma coluna só com \"1\". Isso vai ser a segunda coluna quando for feita a interceptação com X.\n",
    "X_df['intercept'] = 1\n",
    "#print (X_df) #para conferir\n"
   ]
  },
  {
   "cell_type": "code",
   "execution_count": 5,
   "metadata": {
    "collapsed": true
   },
   "outputs": [],
   "source": [
    "\n",
    "## Transforma em vetores do Numpy para facilitar operações com matrizes\n",
    "## Inicia com theta em 0, 0\n",
    "X = np.array(X_df)\n",
    "y = np.array(y_df).flatten()\n",
    "theta = np.array([0, 0])"
   ]
  },
  {
   "cell_type": "code",
   "execution_count": 6,
   "metadata": {
    "collapsed": true
   },
   "outputs": [],
   "source": [
    "def computarCusto(X, y, theta):\n",
    "\n",
    "    \"\"\"\n",
    "    computarCusto(X, y, theta) calcula o custo usando theta como \n",
    "    parametro da regressão linear para ajustar os pontos em X e y\n",
    "    m -- quantidade de itens do conjunto de treinamento\n",
    "    J -- função de custo\n",
    "    theta -- Gradiente Descendente\n",
    "    \"\"\"\n",
    "    ## quantidade de itens do conjunto de treinamento\n",
    "    m = len(y)\n",
    "\n",
    "    ## Calcula o custo com os parãmetros fornecidos\n",
    "    J = np.sum((X.dot(theta)-y)**2)/2/m\n",
    "\n",
    "    return J"
   ]
  },
  {
   "cell_type": "code",
   "execution_count": 7,
   "metadata": {},
   "outputs": [
    {
     "name": "stdout",
     "output_type": "stream",
     "text": [
      "Com todos os parâmetros iguais a zero, a função gera um valor igual a 32.07.\n"
     ]
    }
   ],
   "source": [
    "\"\"\"\n",
    "\"Após implementar essa função, você pode verificar a cor-\n",
    "retude executando com todos os parâmetros iguais a zero. Nessa situação, sua\n",
    "função deve gerar um valor igual a 32,07.\"\n",
    "\"\"\"\n",
    "\n",
    "#computarCusto(X, y, theta)\n",
    "#print (computarCusto(X, y, theta))\n",
    "#print(theta)\n",
    "result = (computarCusto(X, y, theta))\n",
    "#print (\"Com todos os parâmetros iguais a %s, a função gera um valor igual a %f.\" % (theta,result))\n",
    "print (\"Com todos os parâmetros iguais a zero, a função gera um valor igual a %.2f.\" % result)"
   ]
  },
  {
   "cell_type": "code",
   "execution_count": 8,
   "metadata": {
    "collapsed": true
   },
   "outputs": [],
   "source": [
    "def gduni(X, y, theta, alpha, it):\n",
    "    \"\"\"\n",
    "    gduni Executa o algoritmo Gradiente Descendente para ajustar theta\n",
    "    theta = GRADIENTDESENT(X, y, theta, alpha, num_iters) atualiza o valor de theta  \n",
    "    em passos, definido pelo número de iterações (it), com taxa de aprendizado alpha\n",
    "    \n",
    "    \n",
    "    \n",
    "    \"\"\"\n",
    "    custo_temp = [0] * it\n",
    "    \n",
    "    for iteration in range(it):\n",
    "        hipotese = X.dot(theta)\n",
    "        perda = hipotese-y\n",
    "        gradiente = X.T.dot(perda)/m\n",
    "        theta = theta - alpha*gradiente\n",
    "        custo = computarCusto(X, y, theta)\n",
    "        custo_temp[iteration] = custo\n",
    "\n",
    "    return theta, custo_temp"
   ]
  },
  {
   "cell_type": "code",
   "execution_count": 9,
   "metadata": {
    "collapsed": true,
    "scrolled": true
   },
   "outputs": [],
   "source": [
    "(t, c) = gduni(X,y,theta,0.01, 3000)\n",
    "ajuste_x = np.linspace(0, 25, 20)\n",
    "ajuste_y = [t[1] + t[0]*xx for xx in ajuste_x]"
   ]
  },
  {
   "cell_type": "code",
   "execution_count": 10,
   "metadata": {
    "scrolled": false
   },
   "outputs": [
    {
     "data": {
      "text/plain": [
       "<matplotlib.figure.Figure at 0x17afeb38780>"
      ]
     },
     "metadata": {},
     "output_type": "display_data"
    },
    {
     "data": {
      "image/png": "[encoded data removed]",
      "text/plain": [
       "<matplotlib.figure.Figure at 0x17afbafa5f8>"
      ]
     },
     "metadata": {},
     "output_type": "display_data"
    }
   ],
   "source": [
    "plt.clf()\n",
    "plt.figure(figsize=(8,5))\n",
    "plt.plot(X_df.populacao, y_df, '.',color='Red',marker='x')\n",
    "plt.plot(ajuste_x, ajuste_y, '-')\n",
    "plt.axis([4,24,-5,25])\n",
    "plt.xlabel('Population of City in 10,000s')\n",
    "plt.ylabel('Profit in $10,000s')\n",
    "plt.title('Pontos de dados do conjunto ex1data1.txt.')\n",
    "plt.show()"
   ]
  },
  {
   "cell_type": "code",
   "execution_count": 11,
   "metadata": {},
   "outputs": [
    {
     "name": "stdout",
     "output_type": "stream",
     "text": [
      "Lucro em regiões com populações de 35.000 habitantes = $ 2913.33\n",
      "Lucro em regiões com populações de 70.000 habitantes = $ 44607.16\n"
     ]
    }
   ],
   "source": [
    "\"\"\"\n",
    "\"Usar o modelo de regressão linear produzido pelo seu código para predizer o lucro em regiões com\n",
    "populações de 35.000 e 70.000 habitantes. \n",
    "\"\"\"\n",
    "\n",
    "print (\"Lucro em regiões com populações de 35.000 habitantes = $ %.2f\" % (10000.0*(np.array([3.5, 1]).dot(t))))\n",
    "print (\"Lucro em regiões com populações de 70.000 habitantes = $ %.2f\" % (10000.0*(np.array([7, 1]).dot(t))))"
   ]
  },
  {
   "cell_type": "code",
   "execution_count": null,
   "metadata": {
    "collapsed": true
   },
   "outputs": [],
   "source": []
  }
 ],
 "metadata": {
  "kernelspec": {
   "display_name": "Python 3",
   "language": "python",
   "name": "python3"
  },
  "language_info": {
   "codemirror_mode": {
    "name": "ipython",
    "version": 3
   },
   "file_extension": ".py",
   "mimetype": "text/x-python",
   "name": "python",
   "nbconvert_exporter": "python",
   "pygments_lexer": "ipython3",
   "version": "3.6.1"
  }
 },
 "nbformat": 4,
 "nbformat_minor": 2
}
